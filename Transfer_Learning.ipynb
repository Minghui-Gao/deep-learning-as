{
  "cells": [
    {
      "cell_type": "code",
      "execution_count": 2,
      "metadata": {
        "id": "praD4rhSB2J3",
        "colab": {
          "base_uri": "https://localhost:8080/"
        },
        "outputId": "f3c2f86f-af0e-482a-ae7e-c484a4b39936"
      },
      "outputs": [
        {
          "output_type": "stream",
          "name": "stdout",
          "text": [
            "mkdir: cannot create directory ‘local’: File exists\n"
          ]
        }
      ],
      "source": [
        "!mkdir local"
      ]
    },
    {
      "cell_type": "code",
      "execution_count": 3,
      "metadata": {
        "colab": {
          "base_uri": "https://localhost:8080/"
        },
        "id": "U1r2PfkjB9Lp",
        "outputId": "03f16d3e-0a5f-4a7b-d84b-78589b746a3d"
      },
      "outputs": [
        {
          "output_type": "stream",
          "name": "stdout",
          "text": [
            "Collecting tensorflow_decision_forests\n",
            "  Downloading tensorflow_decision_forests-0.2.4-cp37-cp37m-manylinux_2_12_x86_64.manylinux2010_x86_64.whl (13.4 MB)\n",
            "\u001b[K     |████████████████████████████████| 13.4 MB 5.1 MB/s \n",
            "\u001b[?25hRequirement already satisfied: six in /usr/local/lib/python3.7/dist-packages (from tensorflow_decision_forests) (1.15.0)\n",
            "Collecting wurlitzer\n",
            "  Downloading wurlitzer-3.0.2-py3-none-any.whl (7.3 kB)\n",
            "Requirement already satisfied: tensorflow~=2.8.0 in /usr/local/lib/python3.7/dist-packages (from tensorflow_decision_forests) (2.8.0)\n",
            "Requirement already satisfied: pandas in /usr/local/lib/python3.7/dist-packages (from tensorflow_decision_forests) (1.3.5)\n",
            "Requirement already satisfied: numpy in /usr/local/lib/python3.7/dist-packages (from tensorflow_decision_forests) (1.21.6)\n",
            "Requirement already satisfied: wheel in /usr/local/lib/python3.7/dist-packages (from tensorflow_decision_forests) (0.37.1)\n",
            "Requirement already satisfied: absl-py in /usr/local/lib/python3.7/dist-packages (from tensorflow_decision_forests) (1.0.0)\n",
            "Requirement already satisfied: protobuf>=3.9.2 in /usr/local/lib/python3.7/dist-packages (from tensorflow~=2.8.0->tensorflow_decision_forests) (3.17.3)\n",
            "Requirement already satisfied: gast>=0.2.1 in /usr/local/lib/python3.7/dist-packages (from tensorflow~=2.8.0->tensorflow_decision_forests) (0.5.3)\n",
            "Requirement already satisfied: typing-extensions>=3.6.6 in /usr/local/lib/python3.7/dist-packages (from tensorflow~=2.8.0->tensorflow_decision_forests) (4.2.0)\n",
            "Requirement already satisfied: keras<2.9,>=2.8.0rc0 in /usr/local/lib/python3.7/dist-packages (from tensorflow~=2.8.0->tensorflow_decision_forests) (2.8.0)\n",
            "Requirement already satisfied: flatbuffers>=1.12 in /usr/local/lib/python3.7/dist-packages (from tensorflow~=2.8.0->tensorflow_decision_forests) (2.0)\n",
            "Requirement already satisfied: opt-einsum>=2.3.2 in /usr/local/lib/python3.7/dist-packages (from tensorflow~=2.8.0->tensorflow_decision_forests) (3.3.0)\n",
            "Requirement already satisfied: tensorflow-io-gcs-filesystem>=0.23.1 in /usr/local/lib/python3.7/dist-packages (from tensorflow~=2.8.0->tensorflow_decision_forests) (0.25.0)\n",
            "Requirement already satisfied: google-pasta>=0.1.1 in /usr/local/lib/python3.7/dist-packages (from tensorflow~=2.8.0->tensorflow_decision_forests) (0.2.0)\n",
            "Requirement already satisfied: grpcio<2.0,>=1.24.3 in /usr/local/lib/python3.7/dist-packages (from tensorflow~=2.8.0->tensorflow_decision_forests) (1.44.0)\n",
            "Requirement already satisfied: libclang>=9.0.1 in /usr/local/lib/python3.7/dist-packages (from tensorflow~=2.8.0->tensorflow_decision_forests) (14.0.1)\n",
            "Requirement already satisfied: tensorboard<2.9,>=2.8 in /usr/local/lib/python3.7/dist-packages (from tensorflow~=2.8.0->tensorflow_decision_forests) (2.8.0)\n",
            "Requirement already satisfied: h5py>=2.9.0 in /usr/local/lib/python3.7/dist-packages (from tensorflow~=2.8.0->tensorflow_decision_forests) (3.1.0)\n",
            "Requirement already satisfied: setuptools in /usr/local/lib/python3.7/dist-packages (from tensorflow~=2.8.0->tensorflow_decision_forests) (57.4.0)\n",
            "Requirement already satisfied: keras-preprocessing>=1.1.1 in /usr/local/lib/python3.7/dist-packages (from tensorflow~=2.8.0->tensorflow_decision_forests) (1.1.2)\n",
            "Requirement already satisfied: astunparse>=1.6.0 in /usr/local/lib/python3.7/dist-packages (from tensorflow~=2.8.0->tensorflow_decision_forests) (1.6.3)\n",
            "Requirement already satisfied: termcolor>=1.1.0 in /usr/local/lib/python3.7/dist-packages (from tensorflow~=2.8.0->tensorflow_decision_forests) (1.1.0)\n",
            "Requirement already satisfied: wrapt>=1.11.0 in /usr/local/lib/python3.7/dist-packages (from tensorflow~=2.8.0->tensorflow_decision_forests) (1.14.0)\n",
            "Collecting tf-estimator-nightly==2.8.0.dev2021122109\n",
            "  Downloading tf_estimator_nightly-2.8.0.dev2021122109-py2.py3-none-any.whl (462 kB)\n",
            "\u001b[K     |████████████████████████████████| 462 kB 81.5 MB/s \n",
            "\u001b[?25hRequirement already satisfied: cached-property in /usr/local/lib/python3.7/dist-packages (from h5py>=2.9.0->tensorflow~=2.8.0->tensorflow_decision_forests) (1.5.2)\n",
            "Requirement already satisfied: markdown>=2.6.8 in /usr/local/lib/python3.7/dist-packages (from tensorboard<2.9,>=2.8->tensorflow~=2.8.0->tensorflow_decision_forests) (3.3.6)\n",
            "Requirement already satisfied: tensorboard-data-server<0.7.0,>=0.6.0 in /usr/local/lib/python3.7/dist-packages (from tensorboard<2.9,>=2.8->tensorflow~=2.8.0->tensorflow_decision_forests) (0.6.1)\n",
            "Requirement already satisfied: google-auth<3,>=1.6.3 in /usr/local/lib/python3.7/dist-packages (from tensorboard<2.9,>=2.8->tensorflow~=2.8.0->tensorflow_decision_forests) (1.35.0)\n",
            "Requirement already satisfied: tensorboard-plugin-wit>=1.6.0 in /usr/local/lib/python3.7/dist-packages (from tensorboard<2.9,>=2.8->tensorflow~=2.8.0->tensorflow_decision_forests) (1.8.1)\n",
            "Requirement already satisfied: requests<3,>=2.21.0 in /usr/local/lib/python3.7/dist-packages (from tensorboard<2.9,>=2.8->tensorflow~=2.8.0->tensorflow_decision_forests) (2.23.0)\n",
            "Requirement already satisfied: google-auth-oauthlib<0.5,>=0.4.1 in /usr/local/lib/python3.7/dist-packages (from tensorboard<2.9,>=2.8->tensorflow~=2.8.0->tensorflow_decision_forests) (0.4.6)\n",
            "Requirement already satisfied: werkzeug>=0.11.15 in /usr/local/lib/python3.7/dist-packages (from tensorboard<2.9,>=2.8->tensorflow~=2.8.0->tensorflow_decision_forests) (1.0.1)\n",
            "Requirement already satisfied: cachetools<5.0,>=2.0.0 in /usr/local/lib/python3.7/dist-packages (from google-auth<3,>=1.6.3->tensorboard<2.9,>=2.8->tensorflow~=2.8.0->tensorflow_decision_forests) (4.2.4)\n",
            "Requirement already satisfied: rsa<5,>=3.1.4 in /usr/local/lib/python3.7/dist-packages (from google-auth<3,>=1.6.3->tensorboard<2.9,>=2.8->tensorflow~=2.8.0->tensorflow_decision_forests) (4.8)\n",
            "Requirement already satisfied: pyasn1-modules>=0.2.1 in /usr/local/lib/python3.7/dist-packages (from google-auth<3,>=1.6.3->tensorboard<2.9,>=2.8->tensorflow~=2.8.0->tensorflow_decision_forests) (0.2.8)\n",
            "Requirement already satisfied: requests-oauthlib>=0.7.0 in /usr/local/lib/python3.7/dist-packages (from google-auth-oauthlib<0.5,>=0.4.1->tensorboard<2.9,>=2.8->tensorflow~=2.8.0->tensorflow_decision_forests) (1.3.1)\n",
            "Requirement already satisfied: importlib-metadata>=4.4 in /usr/local/lib/python3.7/dist-packages (from markdown>=2.6.8->tensorboard<2.9,>=2.8->tensorflow~=2.8.0->tensorflow_decision_forests) (4.11.3)\n",
            "Requirement already satisfied: zipp>=0.5 in /usr/local/lib/python3.7/dist-packages (from importlib-metadata>=4.4->markdown>=2.6.8->tensorboard<2.9,>=2.8->tensorflow~=2.8.0->tensorflow_decision_forests) (3.8.0)\n",
            "Requirement already satisfied: pyasn1<0.5.0,>=0.4.6 in /usr/local/lib/python3.7/dist-packages (from pyasn1-modules>=0.2.1->google-auth<3,>=1.6.3->tensorboard<2.9,>=2.8->tensorflow~=2.8.0->tensorflow_decision_forests) (0.4.8)\n",
            "Requirement already satisfied: certifi>=2017.4.17 in /usr/local/lib/python3.7/dist-packages (from requests<3,>=2.21.0->tensorboard<2.9,>=2.8->tensorflow~=2.8.0->tensorflow_decision_forests) (2021.10.8)\n",
            "Requirement already satisfied: chardet<4,>=3.0.2 in /usr/local/lib/python3.7/dist-packages (from requests<3,>=2.21.0->tensorboard<2.9,>=2.8->tensorflow~=2.8.0->tensorflow_decision_forests) (3.0.4)\n",
            "Requirement already satisfied: idna<3,>=2.5 in /usr/local/lib/python3.7/dist-packages (from requests<3,>=2.21.0->tensorboard<2.9,>=2.8->tensorflow~=2.8.0->tensorflow_decision_forests) (2.10)\n",
            "Requirement already satisfied: urllib3!=1.25.0,!=1.25.1,<1.26,>=1.21.1 in /usr/local/lib/python3.7/dist-packages (from requests<3,>=2.21.0->tensorboard<2.9,>=2.8->tensorflow~=2.8.0->tensorflow_decision_forests) (1.24.3)\n",
            "Requirement already satisfied: oauthlib>=3.0.0 in /usr/local/lib/python3.7/dist-packages (from requests-oauthlib>=0.7.0->google-auth-oauthlib<0.5,>=0.4.1->tensorboard<2.9,>=2.8->tensorflow~=2.8.0->tensorflow_decision_forests) (3.2.0)\n",
            "Requirement already satisfied: python-dateutil>=2.7.3 in /usr/local/lib/python3.7/dist-packages (from pandas->tensorflow_decision_forests) (2.8.2)\n",
            "Requirement already satisfied: pytz>=2017.3 in /usr/local/lib/python3.7/dist-packages (from pandas->tensorflow_decision_forests) (2022.1)\n",
            "Installing collected packages: tf-estimator-nightly, wurlitzer, tensorflow-decision-forests\n",
            "Successfully installed tensorflow-decision-forests-0.2.4 tf-estimator-nightly-2.8.0.dev2021122109 wurlitzer-3.0.2\n"
          ]
        }
      ],
      "source": [
        "!pip install tensorflow_decision_forests"
      ]
    },
    {
      "cell_type": "code",
      "execution_count": 4,
      "metadata": {
        "id": "FTRl4kwcB-EM",
        "colab": {
          "base_uri": "https://localhost:8080/"
        },
        "outputId": "864f13e8-ac6a-41b0-f7b6-2a70fd4931ac"
      },
      "outputs": [
        {
          "output_type": "stream",
          "name": "stderr",
          "text": [
            "WARNING:root:TF Parameter Server distributed training not available (this is expected for the pre-build release).\n"
          ]
        }
      ],
      "source": [
        "import numpy as np\n",
        "import tensorflow as tf\n",
        "from tensorflow import keras\n",
        "import pandas as pd\n",
        "import seaborn as sns\n",
        "import matplotlib.pyplot as plt\n",
        "import tensorflow_datasets as tfds\n",
        "from wordcloud import WordCloud\n",
        "from collections import Counter\n",
        "from sklearn.model_selection import train_test_split\n",
        "from keras.preprocessing.sequence import pad_sequences\n",
        "from keras.preprocessing.text import Tokenizer\n",
        "from keras.models import Sequential, load_model\n",
        "from keras.layers import Embedding, LSTM, Dense, Dropout, SpatialDropout1D, Flatten, Conv1D, MaxPooling1D, SimpleRNN\n",
        "from keras.callbacks import Callback, EarlyStopping\n",
        "import tensorflow_decision_forests as tfdf\n",
        "\n"
      ]
    },
    {
      "cell_type": "code",
      "execution_count": 5,
      "metadata": {
        "id": "rpmGz_SxCBBp"
      },
      "outputs": [],
      "source": [
        "data = pd.read_csv(\"/content/local/train.csv\")\n",
        "\n",
        "data.drop(['Genre', 'Song'],axis=1,inplace=True)\n",
        "data.loc[data['Language'] == 'en']\n",
        "data.drop(['Language'],axis=1,inplace=True)\n",
        "\n"
      ]
    },
    {
      "cell_type": "code",
      "execution_count": 6,
      "metadata": {
        "id": "b3he5437Z5sl",
        "colab": {
          "base_uri": "https://localhost:8080/"
        },
        "outputId": "c74ad83b-a163-4016-803e-b0723fd994ca"
      },
      "outputs": [
        {
          "output_type": "execute_result",
          "data": {
            "text/plain": [
              "elvis presley           1611\n",
              "chris brown             1239\n",
              "elvis costello           923\n",
              "ella fitzgerald          874\n",
              "the rolling stones       820\n",
              "                        ... \n",
              "the gregory brothers       1\n",
              "flamingokvintetten         1\n",
              "fjeld                      1\n",
              "danceplaycreate            1\n",
              "crawdad republic           1\n",
              "Name: Artist, Length: 11152, dtype: int64"
            ]
          },
          "metadata": {},
          "execution_count": 6
        }
      ],
      "source": [
        "data.Artist.value_counts()"
      ]
    },
    {
      "cell_type": "code",
      "source": [
        "data = data.groupby(\"Artist\").filter(lambda x: (len(x) > 700 ))\n",
        "len(data.Artist.value_counts())"
      ],
      "metadata": {
        "colab": {
          "base_uri": "https://localhost:8080/"
        },
        "id": "1IDi-sPglL7J",
        "outputId": "9ad13249-37af-420e-cce2-95fcebc5aa71"
      },
      "execution_count": 7,
      "outputs": [
        {
          "output_type": "execute_result",
          "data": {
            "text/plain": [
              "10"
            ]
          },
          "metadata": {},
          "execution_count": 7
        }
      ]
    },
    {
      "cell_type": "code",
      "execution_count": 8,
      "metadata": {
        "id": "5obmDLe9CFzj"
      },
      "outputs": [],
      "source": [
        "num_words = 50000\n",
        "tokenizer = Tokenizer(num_words=num_words, filters='!\"#$%&()*+,-./:;<=>?@[\\]^_`{|}~')\n",
        "\n",
        "\n",
        "\n",
        "data[\"Lyrics\"] = pd.concat([data['Lyrics']],axis=0).astype(\"str\")\n",
        "tokenizer.fit_on_texts(data['Lyrics'].values)"
      ]
    },
    {
      "cell_type": "code",
      "execution_count": 9,
      "metadata": {
        "id": "tG38BTGoCG4c"
      },
      "outputs": [],
      "source": [
        "max_len = 500\n",
        "\n",
        "\n",
        "X = tokenizer.texts_to_sequences(data['Lyrics'].values)\n",
        "X = pad_sequences(X, maxlen=max_len)\n",
        "Y = pd.get_dummies(data['Artist']).values\n"
      ]
    },
    {
      "cell_type": "code",
      "execution_count": 10,
      "metadata": {
        "id": "mJKcxIqEmwUo",
        "colab": {
          "base_uri": "https://localhost:8080/"
        },
        "outputId": "e8768ce4-1098-47d1-fa94-27cdd2076eba"
      },
      "outputs": [
        {
          "output_type": "stream",
          "name": "stdout",
          "text": [
            "Model: \"sequential_30\"\n",
            "_________________________________________________________________\n",
            " Layer (type)                Output Shape              Param #   \n",
            "=================================================================\n",
            " embedding_7 (Embedding)     (None, 500, 100)          5000000   \n",
            "                                                                 \n",
            " spatial_dropout1d_6 (Spatia  (None, 500, 100)         0         \n",
            " lDropout1D)                                                     \n",
            "                                                                 \n",
            " lstm_12 (LSTM)              (None, 500, 64)           42240     \n",
            "                                                                 \n",
            " lstm_13 (LSTM)              (None, 32)                12416     \n",
            "                                                                 \n",
            " dense_43 (Dense)            (None, 10)                330       \n",
            "                                                                 \n",
            "=================================================================\n",
            "Total params: 5,054,986\n",
            "Trainable params: 5,054,986\n",
            "Non-trainable params: 0\n",
            "_________________________________________________________________\n"
          ]
        }
      ],
      "source": [
        "base_model = load_model('/content/local/model_with_embedding.h5')\n",
        "base_model.optimizer.lr = 0.005\n",
        "base_model.summary()"
      ]
    },
    {
      "cell_type": "code",
      "source": [
        "base_model.fit(X, Y, epochs=6, batch_size=32, validation_split=0.2)"
      ],
      "metadata": {
        "colab": {
          "base_uri": "https://localhost:8080/"
        },
        "id": "gyQ1WHqeqgt6",
        "outputId": "9cc36368-c077-4134-c9ff-fa5aeebf3634"
      },
      "execution_count": 11,
      "outputs": [
        {
          "output_type": "stream",
          "name": "stdout",
          "text": [
            "Epoch 1/6\n",
            "232/232 [==============================] - 16s 38ms/step - loss: 1.8905 - accuracy: 0.3683 - val_loss: 1.9924 - val_accuracy: 0.2377\n",
            "Epoch 2/6\n",
            "232/232 [==============================] - 8s 35ms/step - loss: 1.0221 - accuracy: 0.6655 - val_loss: 1.5768 - val_accuracy: 0.4863\n",
            "Epoch 3/6\n",
            "232/232 [==============================] - 8s 35ms/step - loss: 0.4972 - accuracy: 0.8463 - val_loss: 1.5639 - val_accuracy: 0.5423\n",
            "Epoch 4/6\n",
            "232/232 [==============================] - 8s 36ms/step - loss: 0.2254 - accuracy: 0.9376 - val_loss: 1.3072 - val_accuracy: 0.6588\n",
            "Epoch 5/6\n",
            "232/232 [==============================] - 8s 35ms/step - loss: 0.0988 - accuracy: 0.9757 - val_loss: 1.4912 - val_accuracy: 0.6555\n",
            "Epoch 6/6\n",
            "232/232 [==============================] - 8s 34ms/step - loss: 0.0462 - accuracy: 0.9887 - val_loss: 1.5905 - val_accuracy: 0.6555\n"
          ]
        },
        {
          "output_type": "execute_result",
          "data": {
            "text/plain": [
              "<keras.callbacks.History at 0x7f2409e5ab90>"
            ]
          },
          "metadata": {},
          "execution_count": 11
        }
      ]
    },
    {
      "cell_type": "code",
      "execution_count": 12,
      "metadata": {
        "colab": {
          "base_uri": "https://localhost:8080/"
        },
        "id": "MPBIQogynzfm",
        "outputId": "38fa85f4-aee5-426e-c5ff-5d6cb2a126aa"
      },
      "outputs": [
        {
          "output_type": "stream",
          "name": "stdout",
          "text": [
            "290/290 [==============================] - 4s 14ms/step - loss: 0.3327 - accuracy: 0.9275\n",
            "    Test Loss: 0.33274\n",
            "Test Accuracy: 92.75%\n"
          ]
        }
      ],
      "source": [
        "results = base_model.evaluate(X, Y, verbose=1)\n",
        "print(\"    Test Loss: {:.5f}\".format(results[0]))\n",
        "print(\"Test Accuracy: {:.2f}%\".format(results[1] * 100))"
      ]
    },
    {
      "cell_type": "code",
      "source": [
        "base_model_1 = load_model('/content/local/model_without_embedding.h5')\n",
        "base_model_1.summary()"
      ],
      "metadata": {
        "colab": {
          "base_uri": "https://localhost:8080/"
        },
        "id": "jjJf9fIeoLc3",
        "outputId": "d943fc31-6e5c-4675-fead-0ccf05bd802f"
      },
      "execution_count": 13,
      "outputs": [
        {
          "output_type": "stream",
          "name": "stdout",
          "text": [
            "Model: \"sequential_29\"\n",
            "_________________________________________________________________\n",
            " Layer (type)                Output Shape              Param #   \n",
            "=================================================================\n",
            " conv1d_50 (Conv1D)          (None, 500, 128)          640       \n",
            "                                                                 \n",
            " max_pooling1d_48 (MaxPoolin  (None, 250, 128)         0         \n",
            " g1D)                                                            \n",
            "                                                                 \n",
            " conv1d_51 (Conv1D)          (None, 250, 64)           32832     \n",
            "                                                                 \n",
            " max_pooling1d_49 (MaxPoolin  (None, 125, 64)          0         \n",
            " g1D)                                                            \n",
            "                                                                 \n",
            " conv1d_52 (Conv1D)          (None, 125, 32)           8224      \n",
            "                                                                 \n",
            " max_pooling1d_50 (MaxPoolin  (None, 62, 32)           0         \n",
            " g1D)                                                            \n",
            "                                                                 \n",
            " flatten_16 (Flatten)        (None, 1984)              0         \n",
            "                                                                 \n",
            " dense_41 (Dense)            (None, 256)               508160    \n",
            "                                                                 \n",
            " dense_42 (Dense)            (None, 10)                2570      \n",
            "                                                                 \n",
            "=================================================================\n",
            "Total params: 552,426\n",
            "Trainable params: 552,426\n",
            "Non-trainable params: 0\n",
            "_________________________________________________________________\n"
          ]
        }
      ]
    },
    {
      "cell_type": "code",
      "source": [
        "base_model_1.fit(X, Y, epochs=6, batch_size=32, validation_split=0.2)"
      ],
      "metadata": {
        "colab": {
          "base_uri": "https://localhost:8080/"
        },
        "id": "ZSxR8LSTqVm6",
        "outputId": "c6be08a7-6794-4a7d-8354-c2e8a889d4df"
      },
      "execution_count": 14,
      "outputs": [
        {
          "output_type": "stream",
          "name": "stdout",
          "text": [
            "Epoch 1/6\n",
            "232/232 [==============================] - 9s 7ms/step - loss: 2.3453 - accuracy: 0.1897 - val_loss: 2.4899 - val_accuracy: 0.0841\n",
            "Epoch 2/6\n",
            "232/232 [==============================] - 1s 5ms/step - loss: 2.2373 - accuracy: 0.1961 - val_loss: 2.5254 - val_accuracy: 0.0841\n",
            "Epoch 3/6\n",
            "232/232 [==============================] - 1s 5ms/step - loss: 2.2276 - accuracy: 0.1961 - val_loss: 2.5441 - val_accuracy: 0.0841\n",
            "Epoch 4/6\n",
            "232/232 [==============================] - 1s 5ms/step - loss: 2.2256 - accuracy: 0.1961 - val_loss: 2.5416 - val_accuracy: 0.0841\n",
            "Epoch 5/6\n",
            "232/232 [==============================] - 1s 5ms/step - loss: 2.2253 - accuracy: 0.1961 - val_loss: 2.5388 - val_accuracy: 0.0841\n",
            "Epoch 6/6\n",
            "232/232 [==============================] - 1s 5ms/step - loss: 2.2250 - accuracy: 0.1961 - val_loss: 2.5488 - val_accuracy: 0.0841\n"
          ]
        },
        {
          "output_type": "execute_result",
          "data": {
            "text/plain": [
              "<keras.callbacks.History at 0x7f238c288950>"
            ]
          },
          "metadata": {},
          "execution_count": 14
        }
      ]
    },
    {
      "cell_type": "code",
      "source": [
        "results = base_model_1.evaluate(X, Y, verbose=1)\n",
        "print(\"    Test Loss: {:.5f}\".format(results[0]))\n",
        "print(\"Test Accuracy: {:.2f}%\".format(results[1] * 100))"
      ],
      "metadata": {
        "colab": {
          "base_uri": "https://localhost:8080/"
        },
        "id": "DuOmhu9JoPu8",
        "outputId": "78f4c84b-7e97-4c5a-f6c6-d4a139903b3e"
      },
      "execution_count": 15,
      "outputs": [
        {
          "output_type": "stream",
          "name": "stdout",
          "text": [
            "290/290 [==============================] - 1s 3ms/step - loss: 2.2894 - accuracy: 0.1737\n",
            "    Test Loss: 2.28941\n",
            "Test Accuracy: 17.37%\n"
          ]
        }
      ]
    },
    {
      "cell_type": "markdown",
      "metadata": {
        "id": "1Nz4lVMaoBnn"
      },
      "source": [
        "New model"
      ]
    },
    {
      "cell_type": "code",
      "execution_count": 16,
      "metadata": {
        "colab": {
          "base_uri": "https://localhost:8080/"
        },
        "id": "fLQf4HWhoA72",
        "outputId": "a7774178-1cc7-49ff-93ba-267b3acb03a5"
      },
      "outputs": [
        {
          "output_type": "stream",
          "name": "stdout",
          "text": [
            "Model: \"sequential\"\n",
            "_________________________________________________________________\n",
            " Layer (type)                Output Shape              Param #   \n",
            "=================================================================\n",
            " embedding (Embedding)       (None, 500, 80)           4000000   \n",
            "                                                                 \n",
            " spatial_dropout1d (SpatialD  (None, 500, 80)          0         \n",
            " ropout1D)                                                       \n",
            "                                                                 \n",
            " lstm (LSTM)                 (None, 500, 32)           14464     \n",
            "                                                                 \n",
            " lstm_1 (LSTM)               (None, 16)                3136      \n",
            "                                                                 \n",
            " dense (Dense)               (None, 10)                170       \n",
            "                                                                 \n",
            "=================================================================\n",
            "Total params: 4,017,770\n",
            "Trainable params: 4,017,770\n",
            "Non-trainable params: 0\n",
            "_________________________________________________________________\n"
          ]
        }
      ],
      "source": [
        "EMBEDDING_DIM = 80\n",
        "model_m = Sequential()\n",
        "model_m.add(Embedding(num_words, EMBEDDING_DIM, input_length=X.shape[1]))\n",
        "model_m.add(SpatialDropout1D(0.2))\n",
        "model_m.add(LSTM(32,  return_sequences=True))\n",
        "model_m.add(LSTM(16))\n",
        "model_m.add(Dense(10, activation='softmax'))\n",
        "model_m.compile(loss='categorical_crossentropy', optimizer='adam', metrics=['accuracy'])\n",
        "model_m.summary()"
      ]
    },
    {
      "cell_type": "code",
      "execution_count": 17,
      "metadata": {
        "colab": {
          "base_uri": "https://localhost:8080/"
        },
        "id": "jHJxCRdjoGy5",
        "outputId": "12863c24-5210-4b13-dba4-baa7a9a32a79"
      },
      "outputs": [
        {
          "output_type": "stream",
          "name": "stdout",
          "text": [
            "Epoch 1/6\n",
            "232/232 [==============================] - 11s 36ms/step - loss: 2.0553 - accuracy: 0.2843 - val_loss: 2.2533 - val_accuracy: 0.1865\n",
            "Epoch 2/6\n",
            "232/232 [==============================] - 7s 32ms/step - loss: 1.5859 - accuracy: 0.4536 - val_loss: 1.9326 - val_accuracy: 0.2739\n",
            "Epoch 3/6\n",
            "232/232 [==============================] - 7s 32ms/step - loss: 1.2015 - accuracy: 0.5878 - val_loss: 1.8752 - val_accuracy: 0.3396\n",
            "Epoch 4/6\n",
            "232/232 [==============================] - 7s 32ms/step - loss: 0.8486 - accuracy: 0.7073 - val_loss: 1.6978 - val_accuracy: 0.4140\n",
            "Epoch 5/6\n",
            "232/232 [==============================] - 7s 32ms/step - loss: 0.6980 - accuracy: 0.7588 - val_loss: 1.5996 - val_accuracy: 0.4706\n",
            "Epoch 6/6\n",
            "232/232 [==============================] - 7s 32ms/step - loss: 0.5265 - accuracy: 0.8208 - val_loss: 1.7019 - val_accuracy: 0.4938\n"
          ]
        },
        {
          "output_type": "execute_result",
          "data": {
            "text/plain": [
              "<keras.callbacks.History at 0x7f238c148f10>"
            ]
          },
          "metadata": {},
          "execution_count": 17
        }
      ],
      "source": [
        "model_m.fit(X, Y, epochs=6, batch_size=32, validation_split=0.2)"
      ]
    },
    {
      "cell_type": "code",
      "execution_count": 18,
      "metadata": {
        "colab": {
          "base_uri": "https://localhost:8080/"
        },
        "id": "-S5lHzL2oH0X",
        "outputId": "8978c8eb-bdd6-4914-a61b-77c01b490d36"
      },
      "outputs": [
        {
          "output_type": "stream",
          "name": "stdout",
          "text": [
            "290/290 [==============================] - 4s 14ms/step - loss: 0.6848 - accuracy: 0.7859\n",
            "    Test Loss: 0.68481\n",
            "Test Accuracy: 78.59%\n"
          ]
        }
      ],
      "source": [
        "results = model_m.evaluate(X, Y, verbose=1)\n",
        "print(\"    Test Loss: {:.5f}\".format(results[0]))\n",
        "print(\"Test Accuracy: {:.2f}%\".format(results[1] * 100))"
      ]
    }
  ],
  "metadata": {
    "colab": {
      "machine_shape": "hm",
      "name": "Transfer Learning.ipynb",
      "provenance": []
    },
    "kernelspec": {
      "display_name": "Python 3",
      "name": "python3"
    },
    "language_info": {
      "name": "python"
    },
    "accelerator": "GPU"
  },
  "nbformat": 4,
  "nbformat_minor": 0
}